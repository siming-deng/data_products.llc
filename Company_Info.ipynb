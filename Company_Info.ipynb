{
 "cells": [
  {
   "cell_type": "code",
   "execution_count": null,
   "metadata": {},
   "outputs": [],
   "source": [
    "#!pip install selenium"
   ]
  },
  {
   "cell_type": "markdown",
   "metadata": {},
   "source": [
    "Need to download Chromedriver first. Please vsit this page: https://chromedriver.chromium.org/downloads"
   ]
  },
  {
   "cell_type": "code",
   "execution_count": 1,
   "metadata": {},
   "outputs": [],
   "source": [
    "import re\n",
    "import time\n",
    "from selenium.webdriver.common.by import By\n",
    "from selenium import webdriver\n",
    "from bs4 import BeautifulSoup\n",
    "import pandas as pd\n",
    "import warnings\n",
    "warnings.filterwarnings(\"ignore\")"
   ]
  },
  {
   "cell_type": "code",
   "execution_count": 2,
   "metadata": {},
   "outputs": [
    {
     "name": "stdout",
     "output_type": "stream",
     "text": [
      "0          eisneramper\n",
      "1         smart design\n",
      "2    data products llc\n",
      "3               google\n",
      "4               amazon\n",
      "Name: Company Name, dtype: object\n"
     ]
    }
   ],
   "source": [
    "tech_company_name = pd.read_excel('CompanyName.xlsx')\n",
    "tech_company_name_df = tech_company_name['Company Name'].str.strip() # remove any white spaces\n",
    "names = {\n",
    "    'Company Name': tech_company_name_df\n",
    "}\n",
    "\n",
    "tech_name_df = pd.DataFrame(names)\n",
    "tech_name_df.drop_duplicates(keep = 'first', inplace = True) # in real world situation, you might encounter duplicates\n",
    "tech_name_df['Company Name'] = tech_name_df['Company Name'].str.lower()\n",
    "tech_names = tech_name_df['Company Name']\n",
    "print(tech_names)"
   ]
  },
  {
   "cell_type": "code",
   "execution_count": 3,
   "metadata": {},
   "outputs": [],
   "source": [
    "driver = webdriver.Chrome() # open up chrome"
   ]
  },
  {
   "cell_type": "code",
   "execution_count": 4,
   "metadata": {},
   "outputs": [],
   "source": [
    "# go to linkedin sign in page\n",
    "driver.get(\"https://www.linkedin.com/checkpoint/rm/sign-in-another-account?fromSignIn=true&trk=guest_homepage-basic_nav-header-signin\")"
   ]
  },
  {
   "cell_type": "code",
   "execution_count": 5,
   "metadata": {},
   "outputs": [],
   "source": [
    "# locate the username input box\n",
    "username = driver.find_element(By.ID, \"username\")"
   ]
  },
  {
   "cell_type": "code",
   "execution_count": 6,
   "metadata": {},
   "outputs": [],
   "source": [
    "# read my linkedin account username and password\n",
    "linkedin_account = pd.read_excel('LinkedInAccount.xlsx')"
   ]
  },
  {
   "cell_type": "code",
   "execution_count": 7,
   "metadata": {},
   "outputs": [],
   "source": [
    "# send my username to the username input box\n",
    "username.send_keys(linkedin_account['User Name'])"
   ]
  },
  {
   "cell_type": "code",
   "execution_count": 8,
   "metadata": {},
   "outputs": [],
   "source": [
    "# locate password input box\n",
    "pword = driver.find_element(By.ID, \"password\")"
   ]
  },
  {
   "cell_type": "code",
   "execution_count": 9,
   "metadata": {},
   "outputs": [],
   "source": [
    "# send my password to the password input box\n",
    "pword.send_keys(linkedin_account['Password'])"
   ]
  },
  {
   "cell_type": "code",
   "execution_count": 10,
   "metadata": {},
   "outputs": [],
   "source": [
    "# find the element with class name and clikc it\n",
    "driver.find_element(By.CLASS_NAME, \"login__form_action_container \").click()"
   ]
  },
  {
   "cell_type": "code",
   "execution_count": 11,
   "metadata": {},
   "outputs": [],
   "source": [
    "# function to get the url based on company name\n",
    "def get_url(search_term):\n",
    "    template = \"https://www.linkedin.com/company/{}/about/\"\n",
    "    search_term = search_term.replace(',', '')\n",
    "    search_term = search_term.replace('(', '')\n",
    "    search_term = search_term.replace(')', '-')\n",
    "    search_term = search_term.replace(' ', '-')\n",
    "    return (template.format(search_term), search_term)"
   ]
  },
  {
   "cell_type": "code",
   "execution_count": 12,
   "metadata": {},
   "outputs": [],
   "source": [
    "# define lists for needed data\n",
    "names = []\n",
    "descriptions = []\n",
    "websites = []\n",
    "industries = []\n",
    "sizes = []"
   ]
  },
  {
   "cell_type": "code",
   "execution_count": 13,
   "metadata": {},
   "outputs": [
    {
     "name": "stdout",
     "output_type": "stream",
     "text": [
      "('https://www.linkedin.com/company/eisneramper/about/', 'eisneramper')\n"
     ]
    }
   ],
   "source": [
    "# see an example url\n",
    "company_url = get_url(\"eisneramper\")\n",
    "print(company_url)"
   ]
  },
  {
   "cell_type": "code",
   "execution_count": 14,
   "metadata": {},
   "outputs": [],
   "source": [
    "# for each company, scrape the data we need\n",
    "for i in tech_names:\n",
    "    try:    \n",
    "        company_url = get_url(i)[0]\n",
    "        driver.get(company_url)\n",
    "        time.sleep(3)\n",
    "        src = driver.page_source # store page source\n",
    "        soup = BeautifulSoup(src, 'lxml') # parse HTML\n",
    "        name = soup.find('h1')\n",
    "        description = soup.find('p', class_ = \"break-words white-space-pre-wrap t-black--light text-body-medium\")\n",
    "        website = soup.find('a', class_ = 'link-without-visited-state ember-view')\n",
    "        industry = soup.find('dt', text = re.compile(\"Industry\")).find_next('dd').text.strip()\n",
    "        size = soup.find('dt', text = re.compile(\"Company size\")).find_next('dd').text.strip()\n",
    "        \n",
    "        names.append(name.get_text().strip())\n",
    "        descriptions.append(description.get_text().strip('\\n'))\n",
    "        websites.append(website.get('href'))\n",
    "        industries.append(industry)\n",
    "        sizes.append(size)\n",
    "        \n",
    "    except:\n",
    "        print(i)\n",
    "        print(\"name:\", len(names))\n",
    "        print(\"description:\", len(descriptions))\n",
    "        print(\"website:\", len(websites))\n",
    "        print(\"industry:\", len(industries))\n",
    "        print(\"size:\", len(sizes))\n",
    "    "
   ]
  },
  {
   "cell_type": "code",
   "execution_count": 15,
   "metadata": {},
   "outputs": [
    {
     "name": "stdout",
     "output_type": "stream",
     "text": [
      "5\n",
      "5\n",
      "5\n",
      "5\n",
      "5\n"
     ]
    }
   ],
   "source": [
    "# make sure we get all the data we need\n",
    "print(len(names))\n",
    "print(len(descriptions))\n",
    "print(len(websites))\n",
    "print(len(industries))\n",
    "print(len(sizes))"
   ]
  },
  {
   "cell_type": "code",
   "execution_count": 16,
   "metadata": {},
   "outputs": [],
   "source": [
    "# make it into a data frame\n",
    "company_info = {\n",
    "    'CompanyName': names,\n",
    "    'Description': descriptions,\n",
    "    'Website': websites,\n",
    "    'Industry': industries,\n",
    "    'Size': sizes\n",
    "}\n",
    "\n",
    "company_info_df = pd.DataFrame(company_info)"
   ]
  },
  {
   "cell_type": "code",
   "execution_count": 17,
   "metadata": {},
   "outputs": [
    {
     "data": {
      "text/html": [
       "<div>\n",
       "<style scoped>\n",
       "    .dataframe tbody tr th:only-of-type {\n",
       "        vertical-align: middle;\n",
       "    }\n",
       "\n",
       "    .dataframe tbody tr th {\n",
       "        vertical-align: top;\n",
       "    }\n",
       "\n",
       "    .dataframe thead th {\n",
       "        text-align: right;\n",
       "    }\n",
       "</style>\n",
       "<table border=\"1\" class=\"dataframe\">\n",
       "  <thead>\n",
       "    <tr style=\"text-align: right;\">\n",
       "      <th></th>\n",
       "      <th>CompanyName</th>\n",
       "      <th>Description</th>\n",
       "      <th>Website</th>\n",
       "      <th>Industry</th>\n",
       "      <th>Size</th>\n",
       "    </tr>\n",
       "  </thead>\n",
       "  <tbody>\n",
       "    <tr>\n",
       "      <th>0</th>\n",
       "      <td>EisnerAmper</td>\n",
       "      <td>EisnerAmper, one of the largest business consu...</td>\n",
       "      <td>http://www.eisneramper.com</td>\n",
       "      <td>Accounting</td>\n",
       "      <td>1,001-5,000 employees</td>\n",
       "    </tr>\n",
       "    <tr>\n",
       "      <th>1</th>\n",
       "      <td>Smart Design</td>\n",
       "      <td>Smart Design is a strategic design company tha...</td>\n",
       "      <td>http://smartdesignworldwide.com</td>\n",
       "      <td>Design Services</td>\n",
       "      <td>51-200 employees</td>\n",
       "    </tr>\n",
       "    <tr>\n",
       "      <th>2</th>\n",
       "      <td>Data Products LLC</td>\n",
       "      <td>WHAT WE DO: \\nAt our core, we are dedicated to...</td>\n",
       "      <td>http://www.dataproducts.io</td>\n",
       "      <td>Professional Services</td>\n",
       "      <td>11-50 employees</td>\n",
       "    </tr>\n",
       "    <tr>\n",
       "      <th>3</th>\n",
       "      <td>Google</td>\n",
       "      <td>A problem isn't truly solved until it's solved...</td>\n",
       "      <td>https://goo.gle/3DLEokh</td>\n",
       "      <td>Software Development</td>\n",
       "      <td>10,001+ employees</td>\n",
       "    </tr>\n",
       "    <tr>\n",
       "      <th>4</th>\n",
       "      <td>Amazon</td>\n",
       "      <td>Amazon is guided by four principles: customer ...</td>\n",
       "      <td>https://www.aboutamazon.com/</td>\n",
       "      <td>Software Development</td>\n",
       "      <td>10,001+ employees</td>\n",
       "    </tr>\n",
       "  </tbody>\n",
       "</table>\n",
       "</div>"
      ],
      "text/plain": [
       "         CompanyName                                        Description  \\\n",
       "0        EisnerAmper  EisnerAmper, one of the largest business consu...   \n",
       "1       Smart Design  Smart Design is a strategic design company tha...   \n",
       "2  Data Products LLC  WHAT WE DO: \\nAt our core, we are dedicated to...   \n",
       "3             Google  A problem isn't truly solved until it's solved...   \n",
       "4             Amazon  Amazon is guided by four principles: customer ...   \n",
       "\n",
       "                           Website               Industry  \\\n",
       "0       http://www.eisneramper.com             Accounting   \n",
       "1  http://smartdesignworldwide.com        Design Services   \n",
       "2       http://www.dataproducts.io  Professional Services   \n",
       "3          https://goo.gle/3DLEokh   Software Development   \n",
       "4     https://www.aboutamazon.com/   Software Development   \n",
       "\n",
       "                    Size  \n",
       "0  1,001-5,000 employees  \n",
       "1       51-200 employees  \n",
       "2        11-50 employees  \n",
       "3      10,001+ employees  \n",
       "4      10,001+ employees  "
      ]
     },
     "execution_count": 17,
     "metadata": {},
     "output_type": "execute_result"
    }
   ],
   "source": [
    "company_info_df"
   ]
  },
  {
   "cell_type": "code",
   "execution_count": null,
   "metadata": {},
   "outputs": [],
   "source": [
    "company_info_df.to_excel('Company Info.xlsx', index = False)"
   ]
  },
  {
   "cell_type": "code",
   "execution_count": null,
   "metadata": {},
   "outputs": [],
   "source": []
  }
 ],
 "metadata": {
  "kernelspec": {
   "display_name": "Python 3 (ipykernel)",
   "language": "python",
   "name": "python3"
  },
  "language_info": {
   "codemirror_mode": {
    "name": "ipython",
    "version": 3
   },
   "file_extension": ".py",
   "mimetype": "text/x-python",
   "name": "python",
   "nbconvert_exporter": "python",
   "pygments_lexer": "ipython3",
   "version": "3.11.3"
  }
 },
 "nbformat": 4,
 "nbformat_minor": 4
}
